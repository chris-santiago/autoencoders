{
 "cells": [
  {
   "cell_type": "markdown",
   "id": "d26ae44c-511d-437a-b54e-81adfc31a040",
   "metadata": {},
   "source": [
    "# Setup"
   ]
  },
  {
   "cell_type": "code",
   "execution_count": 1,
   "id": "cdf64b79-a2a8-4f7c-9901-c9fa380dfe28",
   "metadata": {},
   "outputs": [],
   "source": [
    "import hydra\n",
    "import matplotlib.pyplot as plt\n",
    "import numpy as np\n",
    "import torch\n",
    "import torchvision.transforms as T\n",
    "\n",
    "from autoencoders.constants import Constants\n",
    "from autoencoders.modules import WhiteNoise\n",
    "from autoencoders.utils import plot_images\n",
    "from autoencoders.data import get_mnist_dataset\n",
    "\n",
    "constants = Constants()"
   ]
  },
  {
   "cell_type": "code",
   "execution_count": 2,
   "id": "fdb18241-769d-46fa-9b1f-12d6fafe6a7c",
   "metadata": {},
   "outputs": [],
   "source": [
    "def get_model(model, config):\n",
    "    module = hydra.utils.instantiate(config.models[model].module)\n",
    "    ckpt_path = constants.OUTPUTS.joinpath(config.models[model].ckpt_path)\n",
    "    return module.load_from_checkpoint(ckpt_path, map_location=torch.device(\"cpu\"))"
   ]
  },
  {
   "cell_type": "code",
   "execution_count": 108,
   "id": "3143df04-c1c2-4e5b-b522-ecfb8e3eecd6",
   "metadata": {},
   "outputs": [],
   "source": [
    "def show_representation(x):\n",
    "    fig, ax = plt.subplots(figsize=(6, .3))\n",
    "    ax.set_yticks([])\n",
    "    ax.set_xticks([])\n",
    "    ax.imshow(x[np.newaxis,:], cmap=\"plasma\", aspect=\"auto\")\n",
    "    plt.show()"
   ]
  },
  {
   "cell_type": "markdown",
   "id": "d1a825f3-4eaf-4bd8-a701-6f756ceb409e",
   "metadata": {},
   "source": [
    "## Initialize Hydra Configs"
   ]
  },
  {
   "cell_type": "code",
   "execution_count": 28,
   "id": "458edca6-04be-4cba-933a-c2e4c8eba49b",
   "metadata": {},
   "outputs": [],
   "source": [
    "hydra.initialize(config_path='../autoencoders/conf', version_base=\"1.3\")\n",
    "cfg = hydra.compose(config_name='config')\n",
    "models_cfg = hydra.compose(config_name='comps')"
   ]
  },
  {
   "cell_type": "code",
   "execution_count": 29,
   "id": "4ee0c96c-159f-48bc-be28-b3070a20b772",
   "metadata": {
    "scrolled": true
   },
   "outputs": [
    {
     "name": "stderr",
     "output_type": "stream",
     "text": [
      "/opt/homebrew/Caskroom/miniforge/base/envs/autoencoders/lib/python3.10/site-packages/hydra/_internal/defaults_list.py:251: UserWarning: In 'config': Defaults list is missing `_self_`. See https://hydra.cc/docs/1.2/upgrades/1.0_to_1.1/default_composition_order for more information\n",
      "  warnings.warn(msg, UserWarning)\n"
     ]
    }
   ],
   "source": [
    "enc_cfg = hydra.compose(config_name='config', overrides=['model=sidae2', 'data=simsiam'])"
   ]
  },
  {
   "cell_type": "markdown",
   "id": "b67af715-7450-4af2-86d7-923f028fb796",
   "metadata": {},
   "source": [
    "# Visualizing Intermediate Representations"
   ]
  },
  {
   "cell_type": "code",
   "execution_count": 94,
   "id": "c68d3353-e304-4020-8678-37239860a9e2",
   "metadata": {},
   "outputs": [],
   "source": [
    "dl = hydra.utils.instantiate(enc_cfg.data.train)\n",
    "batch = next(iter(dl))\n",
    "aug_1, aug_2 = batch"
   ]
  },
  {
   "cell_type": "code",
   "execution_count": 105,
   "id": "5ba8a9cc-7d5e-4fad-80bd-1e37841da266",
   "metadata": {},
   "outputs": [],
   "source": [
    "i = 56\n",
    "\n",
    "x_1, x_2 = aug_1[i], aug_2[i]"
   ]
  },
  {
   "cell_type": "code",
   "execution_count": 106,
   "id": "6397a54b-939c-4424-ab54-0614d83d1fd0",
   "metadata": {},
   "outputs": [
    {
     "data": {
      "image/png": "[encoded data removed]",
      "text/plain": [
       "<Figure size 400x400 with 2 Axes>"
      ]
     },
     "metadata": {},
     "output_type": "display_data"
    }
   ],
   "source": [
    "plot_images([x_1.squeeze(), x_2.squeeze()])"
   ]
  },
  {
   "cell_type": "code",
   "execution_count": 31,
   "id": "1778cd5e-42ea-4e47-979c-744e2c65414f",
   "metadata": {},
   "outputs": [
    {
     "name": "stderr",
     "output_type": "stream",
     "text": [
      "/opt/homebrew/Caskroom/miniforge/base/envs/autoencoders/lib/python3.10/site-packages/torch/nn/modules/lazy.py:180: UserWarning: Lazy modules are a new feature under heavy development so changes to the API or functionality can happen at any moment.\n",
      "  warnings.warn('Lazy modules are a new feature under heavy development '\n",
      "/opt/homebrew/Caskroom/miniforge/base/envs/autoencoders/lib/python3.10/site-packages/pytorch_lightning/utilities/parsing.py:197: UserWarning: Attribute 'encoder' is an instance of `nn.Module` and is already saved during checkpointing. It is recommended to ignore them using `self.save_hyperparameters(ignore=['encoder'])`.\n",
      "  rank_zero_warn(\n",
      "/opt/homebrew/Caskroom/miniforge/base/envs/autoencoders/lib/python3.10/site-packages/pytorch_lightning/utilities/parsing.py:197: UserWarning: Attribute 'decoder' is an instance of `nn.Module` and is already saved during checkpointing. It is recommended to ignore them using `self.save_hyperparameters(ignore=['decoder'])`.\n",
      "  rank_zero_warn(\n"
     ]
    }
   ],
   "source": [
    "mod = get_model('sidae', models_cfg)"
   ]
  },
  {
   "cell_type": "code",
   "execution_count": 107,
   "id": "749c5875-20f9-4790-b933-f6e693625668",
   "metadata": {},
   "outputs": [],
   "source": [
    "with torch.no_grad():\n",
    "    z_1, p_1 = mod(aug_1)\n",
    "    z_2, p_2 = mod(aug_2)"
   ]
  },
  {
   "cell_type": "markdown",
   "id": "b49fb179-5a0f-4db0-957b-c37cb4036684",
   "metadata": {},
   "source": [
    "## Comparing Projection of Augment 1 and Latent of Augment 2"
   ]
  },
  {
   "cell_type": "code",
   "execution_count": 112,
   "id": "6aee45c4-163a-4620-bf11-428ab43c8e08",
   "metadata": {},
   "outputs": [
    {
     "data": {
      "image/png": "[encoded data removed]",
      "text/plain": [
       "<Figure size 600x30 with 1 Axes>"
      ]
     },
     "metadata": {},
     "output_type": "display_data"
    }
   ],
   "source": [
    "show_representation(p_1[i])"
   ]
  },
  {
   "cell_type": "code",
   "execution_count": 122,
   "id": "ae983002-65f3-4bda-9590-cc50c50cec0d",
   "metadata": {},
   "outputs": [
    {
     "data": {
      "image/png": "[encoded data removed]",
      "text/plain": [
       "<Figure size 600x30 with 1 Axes>"
      ]
     },
     "metadata": {},
     "output_type": "display_data"
    }
   ],
   "source": [
    "show_representation(z_2[i])"
   ]
  },
  {
   "cell_type": "markdown",
   "id": "cd0e5fd6-2417-43bb-8fb9-1d03c9e88ee5",
   "metadata": {},
   "source": [
    "## Comparing Projection of Augment 2 and Latent of Augment 1"
   ]
  },
  {
   "cell_type": "code",
   "execution_count": 109,
   "id": "1bf4b0fa-a6bd-41e3-b85a-a08b39a919ef",
   "metadata": {},
   "outputs": [
    {
     "data": {
      "image/png": "[encoded data removed]",
      "text/plain": [
       "<Figure size 600x30 with 1 Axes>"
      ]
     },
     "metadata": {},
     "output_type": "display_data"
    }
   ],
   "source": [
    "show_representation(z_1[i])"
   ]
  },
  {
   "cell_type": "code",
   "execution_count": 110,
   "id": "e05df727-bdad-4e61-adfa-2c56d4fc3b21",
   "metadata": {},
   "outputs": [
    {
     "data": {
      "image/png": "[encoded data removed]",
      "text/plain": [
       "<Figure size 600x30 with 1 Axes>"
      ]
     },
     "metadata": {},
     "output_type": "display_data"
    }
   ],
   "source": [
    "show_representation(p_2[i])"
   ]
  },
  {
   "cell_type": "markdown",
   "id": "45664a80-d8da-4693-b432-6118bc634576",
   "metadata": {},
   "source": [
    "## Comparing Latent Representations\n",
    "\n",
    "### Same Class"
   ]
  },
  {
   "cell_type": "code",
   "execution_count": 109,
   "id": "7ac878dd-08a0-4ce3-b7f9-32bb5ebfabc1",
   "metadata": {},
   "outputs": [
    {
     "data": {
      "image/png": "[encoded data removed]",
      "text/plain": [
       "<Figure size 600x30 with 1 Axes>"
      ]
     },
     "metadata": {},
     "output_type": "display_data"
    }
   ],
   "source": [
    "show_representation(z_1[i])"
   ]
  },
  {
   "cell_type": "code",
   "execution_count": 111,
   "id": "5c295b47-67c4-40d2-bd5a-ea5d02fbf58e",
   "metadata": {
    "scrolled": true
   },
   "outputs": [
    {
     "data": {
      "image/png": "[encoded data removed]",
      "text/plain": [
       "<Figure size 600x30 with 1 Axes>"
      ]
     },
     "metadata": {},
     "output_type": "display_data"
    }
   ],
   "source": [
    "show_representation(z_2[i])"
   ]
  },
  {
   "cell_type": "markdown",
   "id": "3b0e646c-09f1-4958-9f33-0704fba47dbe",
   "metadata": {},
   "source": [
    "### Different Class"
   ]
  },
  {
   "cell_type": "code",
   "execution_count": 116,
   "id": "2ec73f33-8545-4698-b5d9-57131098fc20",
   "metadata": {},
   "outputs": [
    {
     "data": {
      "image/png": "[encoded data removed]",
      "text/plain": [
       "<Figure size 400x400 with 2 Axes>"
      ]
     },
     "metadata": {},
     "output_type": "display_data"
    }
   ],
   "source": [
    "plot_images([aug_1[0].squeeze(), aug_2[0].squeeze()])"
   ]
  },
  {
   "cell_type": "code",
   "execution_count": 114,
   "id": "e3f134cc-a908-4fd0-a134-208d2090c7d7",
   "metadata": {},
   "outputs": [
    {
     "data": {
      "image/png": "[encoded data removed]",
      "text/plain": [
       "<Figure size 600x30 with 1 Axes>"
      ]
     },
     "metadata": {},
     "output_type": "display_data"
    }
   ],
   "source": [
    "show_representation(z_1[0])"
   ]
  },
  {
   "cell_type": "code",
   "execution_count": 109,
   "id": "2acca033-dea0-4bb0-a981-16a9cad6c13b",
   "metadata": {},
   "outputs": [
    {
     "data": {
      "image/png": "[encoded data removed]",
      "text/plain": [
       "<Figure size 600x30 with 1 Axes>"
      ]
     },
     "metadata": {},
     "output_type": "display_data"
    }
   ],
   "source": [
    "show_representation(z_1[i])"
   ]
  },
  {
   "cell_type": "code",
   "execution_count": 113,
   "id": "c7b0031d-4681-42c0-a251-a36c2ea2d3e3",
   "metadata": {},
   "outputs": [
    {
     "data": {
      "image/png": "[encoded data removed]",
      "text/plain": [
       "<Figure size 600x30 with 1 Axes>"
      ]
     },
     "metadata": {},
     "output_type": "display_data"
    }
   ],
   "source": [
    "show_representation(p_1[0])"
   ]
  },
  {
   "cell_type": "markdown",
   "id": "010de966-439f-498a-8d76-12e35e709f31",
   "metadata": {},
   "source": [
    "## Comparing Reconstructions"
   ]
  },
  {
   "cell_type": "code",
   "execution_count": 117,
   "id": "f636a019-e9d7-404a-8a88-5de34705e081",
   "metadata": {},
   "outputs": [],
   "source": [
    "with torch.no_grad():\n",
    "    rc_1 = mod.decoder(z_1)\n",
    "    rc_2 = mod.decoder(z_2)"
   ]
  },
  {
   "cell_type": "code",
   "execution_count": 120,
   "id": "03596a61-6506-4470-942a-8da7224e3413",
   "metadata": {},
   "outputs": [
    {
     "data": {
      "image/png": "[encoded data removed]",
      "text/plain": [
       "<Figure size 400x400 with 2 Axes>"
      ]
     },
     "metadata": {},
     "output_type": "display_data"
    }
   ],
   "source": [
    "fig.clear()\n",
    "\n",
    "plot_images([rc_1[i].squeeze(), rc_2[i].squeeze()])"
   ]
  },
  {
   "cell_type": "code",
   "execution_count": 121,
   "id": "24a8c6ce-90f1-4442-928b-f6b60f380f02",
   "metadata": {},
   "outputs": [
    {
     "data": {
      "image/png": "[encoded data removed]",
      "text/plain": [
       "<Figure size 400x400 with 2 Axes>"
      ]
     },
     "metadata": {},
     "output_type": "display_data"
    }
   ],
   "source": [
    "fig.clear()\n",
    "\n",
    "plot_images([rc_1[0].squeeze(), rc_2[0].squeeze()])"
   ]
  },
  {
   "cell_type": "code",
   "execution_count": null,
   "id": "6d932c55-80de-42e6-8f3c-5b0fa7b533c2",
   "metadata": {},
   "outputs": [],
   "source": []
  }
 ],
 "metadata": {
  "kernelspec": {
   "display_name": "autoencoders",
   "language": "python",
   "name": "autoencoders"
  },
  "language_info": {
   "codemirror_mode": {
    "name": "ipython",
    "version": 3
   },
   "file_extension": ".py",
   "mimetype": "text/x-python",
   "name": "python",
   "nbconvert_exporter": "python",
   "pygments_lexer": "ipython3",
   "version": "3.10.12"
  }
 },
 "nbformat": 4,
 "nbformat_minor": 5
}
